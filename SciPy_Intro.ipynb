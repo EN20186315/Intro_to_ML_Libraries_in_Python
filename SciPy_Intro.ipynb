{
 "cells": [
  {
   "cell_type": "markdown",
   "metadata": {},
   "source": [
    "# Introduction to SciPy library."
   ]
  },
  {
   "cell_type": "code",
   "execution_count": 2,
   "metadata": {},
   "outputs": [],
   "source": [
    "import scipy as sp\n",
    "from scipy import special"
   ]
  },
  {
   "cell_type": "code",
   "execution_count": 3,
   "metadata": {},
   "outputs": [
    {
     "name": "stdout",
     "output_type": "stream",
     "text": [
      "((30962.327279773937-7454.337021846366j), (7.438083958045599e-07-4.555469696791113e-07j), (26298.423535632264+16840.896383889358j), (-8.686466795335261e-07-1.9148922735557065e-07j))\n"
     ]
    }
   ],
   "source": [
    "# using kelvin funcion\n",
    "func = special.kelvin(18)\n",
    "print(func)"
   ]
  },
  {
   "cell_type": "markdown",
   "metadata": {},
   "source": [
    "## xlogy() function"
   ]
  },
  {
   "cell_type": "code",
   "execution_count": 8,
   "metadata": {},
   "outputs": [
    {
     "name": "stdout",
     "output_type": "stream",
     "text": [
      "5.41610040220442\n"
     ]
    }
   ],
   "source": [
    "func = special.xlogy(2,15)\n",
    "print(func)"
   ]
  },
  {
   "cell_type": "markdown",
   "metadata": {},
   "source": [
    "## exp10() function\n",
    "\n",
    "It is revers of log function.\n",
    "That means if log(10) = 1\n",
    "then exp10(1) = 10"
   ]
  },
  {
   "cell_type": "code",
   "execution_count": 13,
   "metadata": {},
   "outputs": [
    {
     "name": "stdout",
     "output_type": "stream",
     "text": [
      "10.0\n",
      "10000000000.0\n"
     ]
    }
   ],
   "source": [
    "\n",
    "func= special.exp10(1)\n",
    "print(func)\n",
    "func = special.exp10(10)\n",
    "print(func)"
   ]
  },
  {
   "cell_type": "markdown",
   "metadata": {},
   "source": [
    "## sindg() function\n",
    "Here sindg means sine for angles in degree"
   ]
  },
  {
   "cell_type": "code",
   "execution_count": 17,
   "metadata": {},
   "outputs": [
    {
     "name": "stdout",
     "output_type": "stream",
     "text": [
      "0.8660254037844387\n",
      "0.49999999999999994\n",
      "1.0\n"
     ]
    }
   ],
   "source": [
    "func = special.sindg(60)\n",
    "print(func)\n",
    "print(special.sindg(30))\n",
    "print(special.sindg(90))"
   ]
  },
  {
   "cell_type": "markdown",
   "metadata": {},
   "source": [
    "## cosdg() function.\n",
    "Here cosdg means cosine for angles in degree."
   ]
  },
  {
   "cell_type": "code",
   "execution_count": 22,
   "metadata": {},
   "outputs": [
    {
     "name": "stdout",
     "output_type": "stream",
     "text": [
      "0.49999999999999994\n",
      "0.8660254037844387\n",
      "0.7071067811865475\n",
      "-0.0\n"
     ]
    }
   ],
   "source": [
    "func = special.cosdg(60)\n",
    "print(func)\n",
    "print(special.cosdg(30))\n",
    "print(special.cosdg(45))\n",
    "print(special.cosdg(90))"
   ]
  },
  {
   "cell_type": "markdown",
   "metadata": {},
   "source": [
    "## Calculating integration"
   ]
  },
  {
   "cell_type": "code",
   "execution_count": 24,
   "metadata": {},
   "outputs": [
    {
     "name": "stdout",
     "output_type": "stream",
     "text": [
      "(323.99999999999994, 3.5971225997855064e-12)\n"
     ]
    }
   ],
   "source": [
    "from scipy import integrate\n",
    "var = lambda x : x**3\n",
    "func = integrate.quad(var,0,6)\n",
    "print(func)"
   ]
  },
  {
   "cell_type": "markdown",
   "metadata": {},
   "source": [
    "## Calculating Double Integration"
   ]
  },
  {
   "cell_type": "code",
   "execution_count": 26,
   "metadata": {},
   "outputs": [
    {
     "name": "stdout",
     "output_type": "stream",
     "text": [
      "(3.5999999999999996, 3.996802888650563e-14)\n"
     ]
    }
   ],
   "source": [
    "var = lambda y,x : x*y**4\n",
    "func = integrate.dblquad(var,0,6,lambda x : 0, lambda x:1)\n",
    "print(func)"
   ]
  },
  {
   "cell_type": "markdown",
   "metadata": {},
   "source": [
    "## Fourier Transforamtion."
   ]
  },
  {
   "cell_type": "code",
   "execution_count": 28,
   "metadata": {},
   "outputs": [
    {
     "name": "stdout",
     "output_type": "stream",
     "text": [
      "[[2 2 3]\n",
      " [1 4 6]]\n",
      "\n",
      " [[ 7. +0.j         -0.5+0.8660254j  -0.5-0.8660254j ]\n",
      " [11. +0.j         -4. +1.73205081j -4. -1.73205081j]]\n"
     ]
    }
   ],
   "source": [
    "import numpy as np\n",
    "from scipy import fft\n",
    "\n",
    "var = np.array([[2,2,3],[1,4,6]])\n",
    "print(var)\n",
    "# Fourier transform\n",
    "print(\"\\n\",fft(var))"
   ]
  },
  {
   "cell_type": "markdown",
   "metadata": {},
   "source": [
    "## Solve the matrices"
   ]
  },
  {
   "cell_type": "code",
   "execution_count": 30,
   "metadata": {},
   "outputs": [
    {
     "name": "stdout",
     "output_type": "stream",
     "text": [
      "[[ 0.57142857 -1.14285714]\n",
      " [ 1.14285714  2.71428571]]\n"
     ]
    }
   ],
   "source": [
    "arr = np.array([[1,3],[4,5]])\n",
    "arr1 = np.array([[4,7],[8,9]])\n",
    "\n",
    "func = sp.linalg.solve(arr,arr1)\n",
    "print(func)"
   ]
  },
  {
   "cell_type": "markdown",
   "metadata": {},
   "source": [
    "## Calculate inverse of matrix"
   ]
  },
  {
   "cell_type": "code",
   "execution_count": 32,
   "metadata": {},
   "outputs": [
    {
     "name": "stdout",
     "output_type": "stream",
     "text": [
      "[[-0.71428571  0.42857143]\n",
      " [ 0.57142857 -0.14285714]]\n"
     ]
    }
   ],
   "source": [
    "func = sp.linalg.inv(arr)\n",
    "print(func)"
   ]
  }
 ],
 "metadata": {
  "kernelspec": {
   "display_name": "Python 3",
   "language": "python",
   "name": "python3"
  },
  "language_info": {
   "codemirror_mode": {
    "name": "ipython",
    "version": 3
   },
   "file_extension": ".py",
   "mimetype": "text/x-python",
   "name": "python",
   "nbconvert_exporter": "python",
   "pygments_lexer": "ipython3",
   "version": "3.7.3"
  }
 },
 "nbformat": 4,
 "nbformat_minor": 2
}
