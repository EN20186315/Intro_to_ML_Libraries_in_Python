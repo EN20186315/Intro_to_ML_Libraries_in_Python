{
 "cells": [
  {
   "cell_type": "markdown",
   "metadata": {},
   "source": [
    "# NumPy "
   ]
  },
  {
   "cell_type": "code",
   "execution_count": 2,
   "metadata": {},
   "outputs": [],
   "source": [
    "import numpy as np"
   ]
  },
  {
   "cell_type": "markdown",
   "metadata": {},
   "source": [
    "## Creating 1D array."
   ]
  },
  {
   "cell_type": "code",
   "execution_count": 3,
   "metadata": {},
   "outputs": [
    {
     "name": "stdout",
     "output_type": "stream",
     "text": [
      "[2 3 4]\n",
      "[2 3]\n",
      "2\n",
      "[7 5 8]\n",
      "[8 5 7]\n",
      "[-3  1  0]\n",
      "[10  6 16]\n",
      "[0.4 1.5 1. ]\n",
      "[7 5 8]\n",
      "[5 6 7]\n",
      "[-3  1  0]\n",
      "[10  6 16]\n",
      "[0.4 1.5 1. ]\n"
     ]
    }
   ],
   "source": [
    "arr1 = np.array([2,3,4])\n",
    "print(arr1)\n",
    "\n",
    "# Array Indexing\n",
    "print(arr1[:2])\n",
    "print(arr1[0])\n",
    "\n",
    "# Matrix operations\n",
    "arr2 = np.array([5,2,4])\n",
    "b = 3\n",
    "\n",
    "print(arr1+arr2)\n",
    "print(b+arr2)\n",
    "print(arr1-arr2)\n",
    "print(arr1*arr2)\n",
    "print(arr1/arr2)\n",
    "\n",
    "# Matrix Operations using numpy functions.\n",
    "print(np.add(arr1,arr2))\n",
    "print(np.add(arr1,b))\n",
    "print(np.subtract(arr1,arr2))\n",
    "print(np.multiply(arr1,arr2))\n",
    "print(np.divide(arr1,arr2))"
   ]
  },
  {
   "cell_type": "markdown",
   "metadata": {},
   "source": [
    "## Creating 2D array."
   ]
  },
  {
   "cell_type": "code",
   "execution_count": 4,
   "metadata": {},
   "outputs": [
    {
     "name": "stdout",
     "output_type": "stream",
     "text": [
      "[[2 4 6]\n",
      " [3 8 7]]\n",
      "\n",
      "\n",
      "4\n",
      "[789 321]\n",
      "[456]\n",
      "\n",
      "\n",
      "[[8 7]\n",
      " [5 4]]\n",
      "\n",
      "\n",
      "[[125 460 795]\n",
      " [990 662 328]] \n",
      "\n",
      "[[125 460 795]\n",
      " [990 662 328]] \n",
      "\n",
      "[[ 5  7  9]\n",
      " [ 6 11 10]] \n",
      "\n",
      "[[-121 -452 -783]\n",
      " [-984 -646 -314]] \n",
      "\n",
      "[[ 246 1824 4734]\n",
      " [2961 5232 2247]] \n",
      "\n",
      "[[0.01626016 0.00877193 0.00760456]\n",
      " [0.00303951 0.01223242 0.02180685]] \n",
      "\n"
     ]
    }
   ],
   "source": [
    "arr1 = np.array([(2,4,6),(3,8,7)])\n",
    "print(arr1)\n",
    "arr2 = np.array([(123,456,789),(987,654,321)])\n",
    "\n",
    "print(\"\\n\")\n",
    "# 2D array indexing\n",
    "print(arr1[0,1])\n",
    "print(arr2[:,2])\n",
    "print(arr2[0,1:2])\n",
    "\n",
    "arr3 = np.array([[9,8,7],\n",
    "                 [6,5,4],\n",
    "                 [3,2,1]])\n",
    "print(\"\\n\")\n",
    "print(arr3[:2,1:])\n",
    "\n",
    "# Matrix Operation.\n",
    "print(\"\\n\")\n",
    "print(np.add(arr1,arr2),\"\\n\")\n",
    "print(np.add(arr1,arr2),\"\\n\")\n",
    "print(np.add(arr1,b),\"\\n\")\n",
    "print(np.subtract(arr1,arr2),\"\\n\")\n",
    "print(np.multiply(arr1,arr2),\"\\n\")\n",
    "print(np.divide(arr1,arr2),\"\\n\")"
   ]
  },
  {
   "cell_type": "markdown",
   "metadata": {},
   "source": [
    "# Using Functions"
   ]
  },
  {
   "cell_type": "code",
   "execution_count": 5,
   "metadata": {},
   "outputs": [
    {
     "name": "stdout",
     "output_type": "stream",
     "text": [
      "[21293847198723984791723 3123452345636745856 423452345235611232431234154\n",
      " 512341234523456236 612345712873541897235987891723985798718975479]\n",
      "8\n",
      "\n",
      " [ 1  2  3  4 67]\n",
      "4\n",
      "object\n",
      "3123452345636745856\n",
      "int32\n"
     ]
    }
   ],
   "source": [
    "new_arr = np.array([21293847198723984791723,3123452345636745856,423452345235611232431234154,512341234523456236,612345712873541897235987891723985798718975479])\n",
    "\n",
    "new_arr1 = np.array([1,2,3,4,67])\n",
    "\n",
    "print(new_arr)\n",
    "\n",
    "# itemsize() function\n",
    "print(new_arr.itemsize)\n",
    "\n",
    "print(\"\\n\",new_arr1)\n",
    "print(new_arr1.itemsize)\n",
    "\n",
    "# dtype() function\n",
    "print(new_arr.dtype)\n",
    "print(new_arr[1])\n",
    "\n",
    "print(new_arr1.dtype)"
   ]
  },
  {
   "cell_type": "markdown",
   "metadata": {},
   "source": [
    "## Knowing the Dimensions of arrays (Using ndim() function)\n",
    "\n",
    "ndim() function returns the number dimensions of array."
   ]
  },
  {
   "cell_type": "code",
   "execution_count": 6,
   "metadata": {},
   "outputs": [
    {
     "name": "stdout",
     "output_type": "stream",
     "text": [
      "2\n",
      "3\n",
      "23\n"
     ]
    }
   ],
   "source": [
    "new_arr2 = np.array([[1,2,3,4],\n",
    "                     [3,5,6,7],\n",
    "                     [4,5,67,8],\n",
    "                     [5,6,2,4]])\n",
    "\n",
    "new_arr3 = np.array([[(4,5,67,8),(5,6,2,4)],[(123,23,42,35),(123,4,6,23)]])\n",
    "\n",
    "\n",
    "print(new_arr2.ndim)\n",
    "print(new_arr3.ndim)\n",
    "\n",
    "# 3D array Indexing\n",
    "print(new_arr3[1,0,1])"
   ]
  },
  {
   "cell_type": "markdown",
   "metadata": {},
   "source": [
    "## Know the Size of array"
   ]
  },
  {
   "cell_type": "code",
   "execution_count": 7,
   "metadata": {},
   "outputs": [
    {
     "name": "stdout",
     "output_type": "stream",
     "text": [
      "16\n"
     ]
    }
   ],
   "source": [
    "print(new_arr3.size)\n",
    "#print(new_arr2.size)"
   ]
  },
  {
   "cell_type": "markdown",
   "metadata": {},
   "source": [
    "## Know the Shape of array"
   ]
  },
  {
   "cell_type": "code",
   "execution_count": 8,
   "metadata": {},
   "outputs": [
    {
     "name": "stdout",
     "output_type": "stream",
     "text": [
      "(2, 2, 4)\n",
      "(4, 4)\n"
     ]
    }
   ],
   "source": [
    "print(new_arr3.shape)\n",
    "print(new_arr2.shape)"
   ]
  },
  {
   "cell_type": "markdown",
   "metadata": {},
   "source": [
    "## Using arange() and reshape() Function"
   ]
  },
  {
   "cell_type": "code",
   "execution_count": 9,
   "metadata": {},
   "outputs": [
    {
     "name": "stdout",
     "output_type": "stream",
     "text": [
      "[0 1 2 3 4 5 6 7 8 9]\n",
      "\n",
      "Shape ::  (10,)\n",
      "\n",
      " [[0 1 2 3 4]\n",
      " [5 6 7 8 9]]\n",
      "\n",
      "New shape ::  (2, 5)\n",
      "\n",
      " [[[ 0  1  2]\n",
      "  [ 3  4  5]]\n",
      "\n",
      " [[ 6  7  8]\n",
      "  [ 9 10 11]]]\n"
     ]
    }
   ],
   "source": [
    "sample = np.arange(10)\n",
    "print(sample)\n",
    "print(\"\\nShape :: \",sample.shape)\n",
    "\n",
    "sample1 = np.arange(10).reshape(2,5)\n",
    "print(\"\\n\",sample1)\n",
    "print(\"\\nNew shape :: \",sample1.shape)\n",
    "\n",
    "# Creating and reshaping in 3D array\n",
    "arr = np.arange(12).reshape((2,2,3))\n",
    "print(\"\\n\",arr)"
   ]
  },
  {
   "cell_type": "markdown",
   "metadata": {},
   "source": [
    "## Using linspace() function for array creation"
   ]
  },
  {
   "cell_type": "code",
   "execution_count": 10,
   "metadata": {},
   "outputs": [
    {
     "name": "stdout",
     "output_type": "stream",
     "text": [
      "[ 1.         17.33333333 33.66666667 50.        ]\n",
      "\n",
      " [ 1.          1.24623116  1.49246231  1.73869347  1.98492462  2.23115578\n",
      "  2.47738693  2.72361809  2.96984925  3.2160804   3.46231156  3.70854271\n",
      "  3.95477387  4.20100503  4.44723618  4.69346734  4.93969849  5.18592965\n",
      "  5.4321608   5.67839196  5.92462312  6.17085427  6.41708543  6.66331658\n",
      "  6.90954774  7.15577889  7.40201005  7.64824121  7.89447236  8.14070352\n",
      "  8.38693467  8.63316583  8.87939698  9.12562814  9.3718593   9.61809045\n",
      "  9.86432161 10.11055276 10.35678392 10.60301508 10.84924623 11.09547739\n",
      " 11.34170854 11.5879397  11.83417085 12.08040201 12.32663317 12.57286432\n",
      " 12.81909548 13.06532663 13.31155779 13.55778894 13.8040201  14.05025126\n",
      " 14.29648241 14.54271357 14.78894472 15.03517588 15.28140704 15.52763819\n",
      " 15.77386935 16.0201005  16.26633166 16.51256281 16.75879397 17.00502513\n",
      " 17.25125628 17.49748744 17.74371859 17.98994975 18.2361809  18.48241206\n",
      " 18.72864322 18.97487437 19.22110553 19.46733668 19.71356784 19.95979899\n",
      " 20.20603015 20.45226131 20.69849246 20.94472362 21.19095477 21.43718593\n",
      " 21.68341709 21.92964824 22.1758794  22.42211055 22.66834171 22.91457286\n",
      " 23.16080402 23.40703518 23.65326633 23.89949749 24.14572864 24.3919598\n",
      " 24.63819095 24.88442211 25.13065327 25.37688442 25.62311558 25.86934673\n",
      " 26.11557789 26.36180905 26.6080402  26.85427136 27.10050251 27.34673367\n",
      " 27.59296482 27.83919598 28.08542714 28.33165829 28.57788945 28.8241206\n",
      " 29.07035176 29.31658291 29.56281407 29.80904523 30.05527638 30.30150754\n",
      " 30.54773869 30.79396985 31.04020101 31.28643216 31.53266332 31.77889447\n",
      " 32.02512563 32.27135678 32.51758794 32.7638191  33.01005025 33.25628141\n",
      " 33.50251256 33.74874372 33.99497487 34.24120603 34.48743719 34.73366834\n",
      " 34.9798995  35.22613065 35.47236181 35.71859296 35.96482412 36.21105528\n",
      " 36.45728643 36.70351759 36.94974874 37.1959799  37.44221106 37.68844221\n",
      " 37.93467337 38.18090452 38.42713568 38.67336683 38.91959799 39.16582915\n",
      " 39.4120603  39.65829146 39.90452261 40.15075377 40.39698492 40.64321608\n",
      " 40.88944724 41.13567839 41.38190955 41.6281407  41.87437186 42.12060302\n",
      " 42.36683417 42.61306533 42.85929648 43.10552764 43.35175879 43.59798995\n",
      " 43.84422111 44.09045226 44.33668342 44.58291457 44.82914573 45.07537688\n",
      " 45.32160804 45.5678392  45.81407035 46.06030151 46.30653266 46.55276382\n",
      " 46.79899497 47.04522613 47.29145729 47.53768844 47.7839196  48.03015075\n",
      " 48.27638191 48.52261307 48.76884422 49.01507538 49.26130653 49.50753769\n",
      " 49.75376884 50.        ]\n"
     ]
    }
   ],
   "source": [
    "arr_w_linspc = np.linspace(1,50,4)\n",
    "print(arr_w_linspc)\n",
    "\n",
    "arr_w_linspc = np.linspace(1,50,200)\n",
    "print(\"\\n\",arr_w_linspc)"
   ]
  },
  {
   "cell_type": "markdown",
   "metadata": {},
   "source": [
    "## Using max(), min() and sum() function"
   ]
  },
  {
   "cell_type": "code",
   "execution_count": 11,
   "metadata": {},
   "outputs": [
    {
     "name": "stdout",
     "output_type": "stream",
     "text": [
      "[[ 1  2  3  4]\n",
      " [ 3  5  6  7]\n",
      " [ 4  5 67  8]\n",
      " [ 5  6  2  4]]\n",
      "67\n",
      "1\n",
      "132\n",
      "\n",
      " [ 0  1  2  3  4  5  6  7  8  9 10 11 12 13 14]\n",
      "14\n",
      "0\n",
      "105\n"
     ]
    }
   ],
   "source": [
    "arr = np.array([[1,2,3,4],\n",
    "                [3,5,6,7],\n",
    "                [4,5,67,8],\n",
    "                [5,6,2,4]])\n",
    "arrc = np.arange(15)\n",
    "print(arr)\n",
    "print(arr.max())\n",
    "print(arr.min())\n",
    "print(arr.sum())\n",
    "\n",
    "print(\"\\n\",arrc)\n",
    "print(arrc.max())\n",
    "print(arrc.min())\n",
    "print(arrc.sum())"
   ]
  },
  {
   "cell_type": "markdown",
   "metadata": {},
   "source": [
    "## Using sqrt function"
   ]
  },
  {
   "cell_type": "code",
   "execution_count": 12,
   "metadata": {},
   "outputs": [
    {
     "name": "stdout",
     "output_type": "stream",
     "text": [
      "[0.         1.         1.41421356 1.73205081 2.         2.23606798\n",
      " 2.44948974 2.64575131 2.82842712 3.         3.16227766 3.31662479\n",
      " 3.46410162 3.60555128 3.74165739]\n"
     ]
    }
   ],
   "source": [
    "print(np.sqrt(arrc))"
   ]
  },
  {
   "cell_type": "markdown",
   "metadata": {},
   "source": [
    "## Calculating standard deviation "
   ]
  },
  {
   "cell_type": "code",
   "execution_count": 13,
   "metadata": {},
   "outputs": [
    {
     "name": "stdout",
     "output_type": "stream",
     "text": [
      "15.278661590597522\n",
      "4.320493798938574\n"
     ]
    }
   ],
   "source": [
    "print(np.std(arr))\n",
    "print(np.std(arrc))"
   ]
  },
  {
   "cell_type": "markdown",
   "metadata": {},
   "source": [
    "## Using exponantial function"
   ]
  },
  {
   "cell_type": "code",
   "execution_count": 14,
   "metadata": {},
   "outputs": [
    {
     "name": "stdout",
     "output_type": "stream",
     "text": [
      "[1.00000000e+00 2.71828183e+00 7.38905610e+00 2.00855369e+01\n",
      " 5.45981500e+01 1.48413159e+02 4.03428793e+02 1.09663316e+03\n",
      " 2.98095799e+03 8.10308393e+03 2.20264658e+04 5.98741417e+04\n",
      " 1.62754791e+05 4.42413392e+05 1.20260428e+06]\n",
      "[[2.71828183e+00 7.38905610e+00 2.00855369e+01 5.45981500e+01]\n",
      " [2.00855369e+01 1.48413159e+02 4.03428793e+02 1.09663316e+03]\n",
      " [5.45981500e+01 1.48413159e+02 1.25236317e+29 2.98095799e+03]\n",
      " [1.48413159e+02 4.03428793e+02 7.38905610e+00 5.45981500e+01]]\n"
     ]
    }
   ],
   "source": [
    "print(np.exp(arrc))\n",
    "print(np.exp(arr))"
   ]
  },
  {
   "cell_type": "markdown",
   "metadata": {},
   "source": [
    "## Using log function"
   ]
  },
  {
   "cell_type": "code",
   "execution_count": 15,
   "metadata": {},
   "outputs": [
    {
     "name": "stdout",
     "output_type": "stream",
     "text": [
      "[[0.         0.69314718 1.09861229 1.38629436]\n",
      " [1.09861229 1.60943791 1.79175947 1.94591015]\n",
      " [1.38629436 1.60943791 4.20469262 2.07944154]\n",
      " [1.60943791 1.79175947 0.69314718 1.38629436]]\n"
     ]
    }
   ],
   "source": [
    "print(np.log(arr))"
   ]
  },
  {
   "cell_type": "markdown",
   "metadata": {},
   "source": [
    "## Using ravel function"
   ]
  },
  {
   "cell_type": "code",
   "execution_count": 16,
   "metadata": {},
   "outputs": [
    {
     "name": "stdout",
     "output_type": "stream",
     "text": [
      "[[32  5  2]\n",
      " [ 1 54 16]]\n",
      "[32  5  2  1 54 16]\n"
     ]
    }
   ],
   "source": [
    "arrr = np.array([(32,5,2),(1,54,16)])\n",
    "print(arrr)\n",
    "print(arrr.ravel())  ##this function converts any array into flatened/1-d array"
   ]
  },
  {
   "cell_type": "markdown",
   "metadata": {},
   "source": [
    "## Creating array with one constant valuel."
   ]
  },
  {
   "cell_type": "code",
   "execution_count": 18,
   "metadata": {},
   "outputs": [
    {
     "name": "stdout",
     "output_type": "stream",
     "text": [
      "[[4 4 4]\n",
      " [4 4 4]]\n"
     ]
    }
   ],
   "source": [
    "const = np.full((2,3),4)\n",
    "print(const)"
   ]
  },
  {
   "cell_type": "markdown",
   "metadata": {},
   "source": [
    "## Creating array with only 1 value"
   ]
  },
  {
   "cell_type": "code",
   "execution_count": 20,
   "metadata": {},
   "outputs": [
    {
     "name": "stdout",
     "output_type": "stream",
     "text": [
      "[[1. 1. 1. 1.]\n",
      " [1. 1. 1. 1.]\n",
      " [1. 1. 1. 1.]]\n"
     ]
    }
   ],
   "source": [
    "one = np.ones((3,4))\n",
    "print(one)"
   ]
  },
  {
   "cell_type": "markdown",
   "metadata": {},
   "source": [
    "## Creating Zero matrix"
   ]
  },
  {
   "cell_type": "code",
   "execution_count": 22,
   "metadata": {},
   "outputs": [
    {
     "name": "stdout",
     "output_type": "stream",
     "text": [
      "[[0. 0. 0. 0. 0.]\n",
      " [0. 0. 0. 0. 0.]\n",
      " [0. 0. 0. 0. 0.]]\n"
     ]
    }
   ],
   "source": [
    "zero = np.zeros((3,5))\n",
    "print(zero)"
   ]
  },
  {
   "cell_type": "markdown",
   "metadata": {},
   "source": [
    "## Boolean Array Indexing"
   ]
  },
  {
   "cell_type": "code",
   "execution_count": 32,
   "metadata": {},
   "outputs": [
    {
     "name": "stdout",
     "output_type": "stream",
     "text": [
      "[[0 1]\n",
      " [2 3]\n",
      " [4 5]\n",
      " [6 7]\n",
      " [8 9]]\n",
      "\n",
      " [[False False]\n",
      " [False  True]\n",
      " [ True  True]\n",
      " [ True  True]\n",
      " [ True  True]]\n",
      "\n",
      " [3 4 5 6 7 8 9]\n",
      "\n",
      " [[ True  True]\n",
      " [ True  True]\n",
      " [ True False]\n",
      " [ True  True]\n",
      " [ True  True]]\n",
      "\n",
      " [0 1 2 3 4 6 7 8 9]\n",
      "\n",
      " [5]\n"
     ]
    }
   ],
   "source": [
    "arr = np.arange(10).reshape(5,2)\n",
    "print(arr)\n",
    "\n",
    "print(\"\\n\",arr>2)\n",
    "\n",
    "print(\"\\n\",arr[arr>2])\n",
    "\n",
    "print(\"\\n\",arr != 5)\n",
    "\n",
    "print(\"\\n\",arr[arr !=5])\n",
    "\n",
    "print(\"\\n\",arr[arr ==5])"
   ]
  }
 ],
 "metadata": {
  "kernelspec": {
   "display_name": "Python 3",
   "language": "python",
   "name": "python3"
  },
  "language_info": {
   "codemirror_mode": {
    "name": "ipython",
    "version": 3
   },
   "file_extension": ".py",
   "mimetype": "text/x-python",
   "name": "python",
   "nbconvert_exporter": "python",
   "pygments_lexer": "ipython3",
   "version": "3.7.3"
  }
 },
 "nbformat": 4,
 "nbformat_minor": 2
}
